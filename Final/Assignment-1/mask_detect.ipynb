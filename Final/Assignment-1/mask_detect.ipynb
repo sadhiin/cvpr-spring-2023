{
 "cells": [
  {
   "cell_type": "code",
   "execution_count": 1,
   "metadata": {},
   "outputs": [],
   "source": [
    "# Importing Libraries\n",
    "import time\n",
    "import cv2\n",
    "import pickle\n",
    "import numpy as np\n",
    "import tensorflow as tf\n",
    "from tensorflow.keras.models import load_model"
   ]
  },
  {
   "cell_type": "code",
   "execution_count": 2,
   "metadata": {},
   "outputs": [],
   "source": [
    "\n",
    "model = load_model(\"mymodel.h5\", compile=False)\n",
    "model.compile(optimizer=tf.keras.optimizers.Adam(learning_rate=1e-3),\n",
    "              loss=tf.keras.losses.CategoricalCrossentropy(),\n",
    "              metrics=[tf.keras.metrics.CategoricalAccuracy(),\n",
    "                       tf.keras.metrics.FalseNegatives(), 'acc'])"
   ]
  },
  {
   "cell_type": "code",
   "execution_count": 3,
   "metadata": {},
   "outputs": [],
   "source": [
    "with open('./category2label.pkl', 'rb') as cat:\n",
    "    catrgory_2_label = pickle.load(cat)\n"
   ]
  },
  {
   "cell_type": "code",
   "execution_count": 4,
   "metadata": {},
   "outputs": [
    {
     "name": "stdout",
     "output_type": "stream",
     "text": [
      "{0: 'without_mask', 1: 'with_mask', 2: 'mask_weared_incorrect'}\n"
     ]
    }
   ],
   "source": [
    "print(catrgory_2_label)\n",
    "\n",
    "img_size = (100, 100)\n",
    "\n",
    "box_colors = {0: (0, 0, 255), 1: (0, 255, 0), 2: (0, 255, 255)}"
   ]
  },
  {
   "cell_type": "code",
   "execution_count": 5,
   "metadata": {},
   "outputs": [],
   "source": [
    "face_cascade = cv2.CascadeClassifier('haarcascade_frontalface_default.xml')\n"
   ]
  },
  {
   "cell_type": "code",
   "execution_count": 6,
   "metadata": {},
   "outputs": [
    {
     "name": "stdout",
     "output_type": "stream",
     "text": [
      "1/1 [==============================] - 1s 926ms/step\n",
      "1/1 [==============================] - 0s 40ms/step\n",
      "1/1 [==============================] - 0s 44ms/step\n",
      "1/1 [==============================] - 0s 38ms/step\n",
      "1/1 [==============================] - 0s 39ms/step\n",
      "1/1 [==============================] - 0s 47ms/step\n",
      "1/1 [==============================] - 0s 39ms/step\n",
      "1/1 [==============================] - 0s 38ms/step\n",
      "1/1 [==============================] - 0s 39ms/step\n",
      "1/1 [==============================] - 0s 40ms/step\n",
      "1/1 [==============================] - 0s 39ms/step\n",
      "1/1 [==============================] - 0s 40ms/step\n",
      "1/1 [==============================] - 0s 38ms/step\n",
      "1/1 [==============================] - 0s 40ms/step\n",
      "1/1 [==============================] - 0s 43ms/step\n",
      "1/1 [==============================] - 0s 42ms/step\n",
      "1/1 [==============================] - 0s 44ms/step\n",
      "1/1 [==============================] - 0s 39ms/step\n",
      "1/1 [==============================] - 0s 37ms/step\n"
     ]
    }
   ],
   "source": [
    "# video from webcam\n",
    "\n",
    "cap = cv2.VideoCapture(0)\n",
    "begin_time = time.time()\n",
    "frame_cnt = 0\n",
    "\n",
    "while cap.isOpened():\n",
    "    rate, frame = cap.read()\n",
    "\n",
    "    if not rate:\n",
    "        break\n",
    "\n",
    "    frame_cnt += 1\n",
    "    frame = cv2.flip(frame, 1)\n",
    "    face = face_cascade.detectMultiScale(frame, 1.3, 5)\n",
    "\n",
    "    for (x, y, w, h) in face:\n",
    "        # prediction\n",
    "\n",
    "        roi = frame[y:y+h, x:x+w]\n",
    "        data = cv2.resize(cv2.cvtColor(roi, cv2.COLOR_BGR2RGB), img_size)\n",
    "        data = data / 255.\n",
    "        data = data.reshape((1,) + data.shape)\n",
    "\n",
    "        pred = model.predict(data)\n",
    "\n",
    "        target = np.argmax(pred, axis=1)[0]\n",
    "\n",
    "        # drawing box\n",
    "        cv2.rectangle(img=frame, pt1=(x, y), pt2=(x+w, y+h), color=box_colors[target], thickness=2)\n",
    "        # cv2.rectangle(img=frame, pt1=(x, y), pt2=(x+w, y+h),color=box_colors[target], thickness=2.5)\n",
    "        text = \"{}: {:.2f}\".format(catrgory_2_label[target], pred[0][target])\n",
    "        cv2.putText(frame, text, org=(x, y-5), fontFace=cv2.FONT_HERSHEY_SIMPLEX,fontScale=0.6, color=(255, 255, 255), thickness=1)\n",
    "\n",
    "    endtime = time.time()-begin_time\n",
    "    fps = frame_cnt / endtime\n",
    "\n",
    "    cv2.putText(img=frame, text=\"FPS: \"+str(round(fps, 2)), org=(10, 20),\n",
    "                fontFace=cv2.FONT_HERSHEY_SIMPLEX,  fontScale=0.5, color=(255, 255, 255), thickness=1)\n",
    "    # Show the frame\n",
    "    cv2.imshow('Face Mask Detection', frame)\n",
    "\n",
    "    if cv2.waitKey(1) & 0xFF == 27:\n",
    "        break\n",
    "\n",
    "cap.release()\n",
    "cv2.destroyAllWindows()\n"
   ]
  },
  {
   "cell_type": "code",
   "execution_count": null,
   "metadata": {},
   "outputs": [],
   "source": []
  },
  {
   "cell_type": "code",
   "execution_count": null,
   "metadata": {},
   "outputs": [],
   "source": []
  },
  {
   "cell_type": "code",
   "execution_count": null,
   "metadata": {},
   "outputs": [],
   "source": []
  }
 ],
 "metadata": {
  "kernelspec": {
   "display_name": "base",
   "language": "python",
   "name": "python3"
  },
  "language_info": {
   "codemirror_mode": {
    "name": "ipython",
    "version": 3
   },
   "file_extension": ".py",
   "mimetype": "text/x-python",
   "name": "python",
   "nbconvert_exporter": "python",
   "pygments_lexer": "ipython3",
   "version": "3.9.12"
  },
  "orig_nbformat": 4
 },
 "nbformat": 4,
 "nbformat_minor": 2
}
