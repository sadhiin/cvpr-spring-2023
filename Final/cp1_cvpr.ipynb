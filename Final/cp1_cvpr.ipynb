{
  "metadata": {
    "kernelspec": {
      "language": "python",
      "display_name": "Python 3",
      "name": "python3"
    },
    "language_info": {
      "name": "python",
      "version": "3.7.12",
      "mimetype": "text/x-python",
      "codemirror_mode": {
        "name": "ipython",
        "version": 3
      },
      "pygments_lexer": "ipython3",
      "nbconvert_exporter": "python",
      "file_extension": ".py"
    },
    "colab": {
      "provenance": []
    },
    "accelerator": "GPU",
    "gpuClass": "standard"
  },
  "nbformat_minor": 0,
  "nbformat": 4,
  "cells": [
    {
      "cell_type": "markdown",
      "source": [
        "# Imports"
      ],
      "metadata": {
        "id": "vUexvkLnn3bE"
      }
    },
    {
      "cell_type": "code",
      "source": [
        "import tensorflow as tf\n",
        "from tensorflow import keras\n",
        "from tensorflow.keras.layers import Conv2D, MaxPooling2D, Flatten, Dense, Dropout, BatchNormalization\n",
        "from tensorflow.keras.datasets import mnist\n",
        "\n",
        "import os\n",
        "import random\n",
        "import numpy as np\n",
        "import matplotlib.pyplot as plt\n",
        "\n",
        "%matplotlib inline"
      ],
      "metadata": {
        "execution": {
          "iopub.status.busy": "2023-03-25T06:47:31.089470Z",
          "iopub.execute_input": "2023-03-25T06:47:31.089928Z",
          "iopub.status.idle": "2023-03-25T06:47:41.796463Z",
          "shell.execute_reply.started": "2023-03-25T06:47:31.089885Z",
          "shell.execute_reply": "2023-03-25T06:47:41.794752Z"
        },
        "trusted": true,
        "id": "4Y5uu2V3nlHN"
      },
      "execution_count": 1,
      "outputs": []
    },
    {
      "cell_type": "code",
      "source": [
        "(x_train, y_train), (x_test, y_test) = mnist.load_data()\n",
        "print(f\"Shape of x_train: {x_train.shape}\")\n",
        "print(f\"Shape of y_train: {y_train.shape}\")\n",
        "print()\n",
        "print(f\"Shape of x_test: {x_test.shape}\")\n",
        "print(f\"Shape of y_test: {y_test.shape}\")"
      ],
      "metadata": {
        "execution": {
          "iopub.status.busy": "2023-03-25T06:47:41.798847Z",
          "iopub.execute_input": "2023-03-25T06:47:41.799660Z",
          "iopub.status.idle": "2023-03-25T06:47:43.486804Z",
          "shell.execute_reply.started": "2023-03-25T06:47:41.799616Z",
          "shell.execute_reply": "2023-03-25T06:47:43.485586Z"
        },
        "trusted": true,
        "colab": {
          "base_uri": "https://localhost:8080/"
        },
        "id": "GtGCRDSynlHP",
        "outputId": "f95929ba-af1d-4547-bf73-e802c5ae3bb0"
      },
      "execution_count": 2,
      "outputs": [
        {
          "output_type": "stream",
          "name": "stdout",
          "text": [
            "Shape of x_train: (60000, 28, 28)\n",
            "Shape of y_train: (60000,)\n",
            "\n",
            "Shape of x_test: (10000, 28, 28)\n",
            "Shape of y_test: (10000,)\n"
          ]
        }
      ]
    },
    {
      "cell_type": "code",
      "source": [
        "digit = np.random.randint(1,x_train.shape[0]) # Change to choose new digit\n",
        "a = x_train[digit]\n",
        "plt.imshow(a, cmap='gray_r')\n",
        "print(f\"Image (#{digit}): Which is digit '{y_train[digit]}'\")"
      ],
      "metadata": {
        "execution": {
          "iopub.status.busy": "2023-03-25T06:47:43.488235Z",
          "iopub.execute_input": "2023-03-25T06:47:43.488612Z",
          "iopub.status.idle": "2023-03-25T06:47:43.760347Z",
          "shell.execute_reply.started": "2023-03-25T06:47:43.488576Z",
          "shell.execute_reply": "2023-03-25T06:47:43.759146Z"
        },
        "trusted": true,
        "colab": {
          "base_uri": "https://localhost:8080/",
          "height": 282
        },
        "id": "5w21JyUEnlHQ",
        "outputId": "2461cdb0-744e-4fe6-f386-2d3cbf642b56"
      },
      "execution_count": 3,
      "outputs": [
        {
          "output_type": "stream",
          "name": "stdout",
          "text": [
            "Image (#27195): Which is digit '8'\n"
          ]
        },
        {
          "output_type": "display_data",
          "data": {
            "text/plain": [
              "<Figure size 432x288 with 1 Axes>"
            ],
            "image/png": "[encoded data removed]"
          },
          "metadata": {
            "needs_background": "light"
          }
        }
      ]
    },
    {
      "cell_type": "code",
      "source": [
        "digit = np.random.randint(1,x_train.shape[0])\n",
        "a = x_train[digit]\n",
        "plt.imshow(a)\n",
        "print(f\"Image (#{digit}): Which is digit '{y_train[digit]}'\")"
      ],
      "metadata": {
        "execution": {
          "iopub.status.busy": "2023-03-25T06:47:43.764633Z",
          "iopub.execute_input": "2023-03-25T06:47:43.765419Z",
          "iopub.status.idle": "2023-03-25T06:47:44.007599Z",
          "shell.execute_reply.started": "2023-03-25T06:47:43.765369Z",
          "shell.execute_reply": "2023-03-25T06:47:44.006638Z"
        },
        "trusted": true,
        "colab": {
          "base_uri": "https://localhost:8080/",
          "height": 282
        },
        "id": "z6f2rPZinlHR",
        "outputId": "ed7df9c5-d09e-4f16-af55-55277b0fab0f"
      },
      "execution_count": 4,
      "outputs": [
        {
          "output_type": "stream",
          "name": "stdout",
          "text": [
            "Image (#28377): Which is digit '6'\n"
          ]
        },
        {
          "output_type": "display_data",
          "data": {
            "text/plain": [
              "<Figure size 432x288 with 1 Axes>"
            ],
            "image/png": "[encoded data removed]"
          },
          "metadata": {
            "needs_background": "light"
          }
        }
      ]
    },
    {
      "cell_type": "code",
      "source": [
        "# summarize pixel values\n",
        "print('Train: ', x_train.min(), x_train.max(), x_train.mean(), x_train.std())\n",
        "print('Test: ', x_test.min(), x_test.max(), x_test.mean(), x_test.std())"
      ],
      "metadata": {
        "execution": {
          "iopub.status.busy": "2023-03-25T06:47:44.012019Z",
          "iopub.execute_input": "2023-03-25T06:47:44.014603Z",
          "iopub.status.idle": "2023-03-25T06:47:44.506524Z",
          "shell.execute_reply.started": "2023-03-25T06:47:44.014556Z",
          "shell.execute_reply": "2023-03-25T06:47:44.505032Z"
        },
        "trusted": true,
        "colab": {
          "base_uri": "https://localhost:8080/"
        },
        "id": "RFh0Jz2anlHR",
        "outputId": "30e242fe-4815-4d60-be63-afd1cfeadb70"
      },
      "execution_count": 5,
      "outputs": [
        {
          "output_type": "stream",
          "name": "stdout",
          "text": [
            "Train:  0 255 33.318421449829934 78.56748998339798\n",
            "Test:  0 255 33.791224489795916 79.17246322228644\n"
          ]
        }
      ]
    },
    {
      "cell_type": "code",
      "source": [
        "x_train = x_train.reshape(x_train.shape[0], 28, 28, 1).astype('float32') / 255.0\n",
        "x_test = x_test.reshape(x_test.shape[0], 28, 28, 1).astype('float32')/ 255.0"
      ],
      "metadata": {
        "execution": {
          "iopub.status.busy": "2023-03-25T06:47:44.508032Z",
          "iopub.execute_input": "2023-03-25T06:47:44.508511Z",
          "iopub.status.idle": "2023-03-25T06:47:44.679928Z",
          "shell.execute_reply.started": "2023-03-25T06:47:44.508467Z",
          "shell.execute_reply": "2023-03-25T06:47:44.678682Z"
        },
        "trusted": true,
        "id": "FcwKclE6nlHS"
      },
      "execution_count": 6,
      "outputs": []
    },
    {
      "cell_type": "markdown",
      "source": [
        "# Prepocessing"
      ],
      "metadata": {
        "id": "ddxJ0FFynlHT"
      }
    },
    {
      "cell_type": "code",
      "source": [
        "mean_img = np.mean(x_train,axis=0)\n",
        "print(mean_img.shape)\n",
        "plt.imshow(mean_img,cmap='gray_r')\n",
        "plt.show()\n",
        "\n",
        "plt.imshow(mean_img)\n",
        "plt.show()"
      ],
      "metadata": {
        "execution": {
          "iopub.status.busy": "2023-03-25T06:47:44.681307Z",
          "iopub.execute_input": "2023-03-25T06:47:44.681649Z",
          "iopub.status.idle": "2023-03-25T06:47:44.929146Z",
          "shell.execute_reply.started": "2023-03-25T06:47:44.681618Z",
          "shell.execute_reply": "2023-03-25T06:47:44.928280Z"
        },
        "trusted": true,
        "colab": {
          "base_uri": "https://localhost:8080/",
          "height": 530
        },
        "id": "EYHPhc0XnlHU",
        "outputId": "b9544581-39a3-4ce5-893b-5f9f0c6f5b4a"
      },
      "execution_count": 7,
      "outputs": [
        {
          "output_type": "stream",
          "name": "stdout",
          "text": [
            "(28, 28, 1)\n"
          ]
        },
        {
          "output_type": "display_data",
          "data": {
            "text/plain": [
              "<Figure size 432x288 with 1 Axes>"
            ],
            "image/png": "[encoded data removed]"
          },
          "metadata": {
            "needs_background": "light"
          }
        },
        {
          "output_type": "display_data",
          "data": {
            "text/plain": [
              "<Figure size 432x288 with 1 Axes>"
            ],
            "image/png": "[encoded data removed]"
          },
          "metadata": {
            "needs_background": "light"
          }
        }
      ]
    },
    {
      "cell_type": "code",
      "source": [
        "x_train_norm, x_test_norm = x_train - mean_img, x_test-mean_img"
      ],
      "metadata": {
        "execution": {
          "iopub.status.busy": "2023-03-25T06:47:44.930419Z",
          "iopub.execute_input": "2023-03-25T06:47:44.931026Z",
          "iopub.status.idle": "2023-03-25T06:47:45.170416Z",
          "shell.execute_reply.started": "2023-03-25T06:47:44.930988Z",
          "shell.execute_reply": "2023-03-25T06:47:45.169186Z"
        },
        "trusted": true,
        "id": "uN8Om1TenlHV"
      },
      "execution_count": 8,
      "outputs": []
    },
    {
      "cell_type": "code",
      "source": [
        "print(x_train_norm.shape)\n",
        "print(x_test_norm.shape)"
      ],
      "metadata": {
        "colab": {
          "base_uri": "https://localhost:8080/"
        },
        "id": "cpYadmAjoisu",
        "outputId": "fcb7d397-d3fc-4a4e-e815-7070379a92dd"
      },
      "execution_count": 9,
      "outputs": [
        {
          "output_type": "stream",
          "name": "stdout",
          "text": [
            "(60000, 28, 28, 1)\n",
            "(10000, 28, 28, 1)\n"
          ]
        }
      ]
    },
    {
      "cell_type": "code",
      "source": [
        "c = 0\n",
        "plt.figure(figsize=(5,10))\n",
        "for i in range(5):\n",
        "    plt.subplot(5,2,c+1)\n",
        "    plt.imshow(x_train[i],cmap='gray_r')\n",
        "    plt.xticks([])\n",
        "    plt.yticks([])\n",
        "    \n",
        "    plt.subplot(5,2,c+2)\n",
        "    plt.imshow(x_train_norm[i],cmap='gray_r')\n",
        "    plt.xticks([])\n",
        "    plt.yticks([])\n",
        "\n",
        "    c += 2\n",
        "    \n",
        "plt.tight_layout()\n",
        "plt.show()"
      ],
      "metadata": {
        "execution": {
          "iopub.status.busy": "2023-03-25T06:47:45.171846Z",
          "iopub.execute_input": "2023-03-25T06:47:45.172211Z",
          "iopub.status.idle": "2023-03-25T06:47:45.780662Z",
          "shell.execute_reply.started": "2023-03-25T06:47:45.172176Z",
          "shell.execute_reply": "2023-03-25T06:47:45.778909Z"
        },
        "trusted": true,
        "colab": {
          "base_uri": "https://localhost:8080/",
          "height": 729
        },
        "id": "UX1oD69xnlHV",
        "outputId": "41a03ca1-47f9-4429-f2e3-be928e1451cf"
      },
      "execution_count": 10,
      "outputs": [
        {
          "output_type": "display_data",
          "data": {
            "text/plain": [
              "<Figure size 360x720 with 10 Axes>"
            ],
            "image/png": "[encoded data removed]"
          },
          "metadata": {}
        }
      ]
    },
    {
      "cell_type": "code",
      "source": [
        "# import tensorflow as tf\n",
        "# from tensorflow.keras.layers import Conv2D, MaxPooling2D, Flatten, Dense, Dropout\n",
        "\n",
        "# # Define the AlexNet model\n",
        "# model = tf.keras.models.Sequential([\n",
        "#     # First convolutional layer\n",
        "#     Conv2D(filters=96, kernel_size=(11,11), strides=(1,1), activation='relu', input_shape=(28,28,1)),\n",
        "#     MaxPooling2D(pool_size=(3,3), strides=(2,2)),\n",
        "#     # Second convolutional layer\n",
        "#     Conv2D(filters=256, kernel_size=(5,5), strides=(1,1), activation='relu', padding=\"same\"),\n",
        "#     MaxPooling2D(pool_size=(3,3), strides=(2,2)),\n",
        "#     # Third convolutional layer\n",
        "#     Conv2D(filters=384, kernel_size=(3,3), strides=(1,1), activation='relu', padding=\"same\"),\n",
        "#     # Fourth convolutional layer\n",
        "#     Conv2D(filters=384, kernel_size=(3,3), strides=(1,1), activation='relu', padding=\"same\"),\n",
        "#     # Fifth convolutional layer\n",
        "#     Conv2D(filters=256, kernel_size=(3,3), strides=(1,1), activation='relu', padding=\"same\"),\n",
        "#     MaxPooling2D(pool_size=(3,3), strides=(2,2)),\n",
        "#     # Flatten the output of the fifth convolutional layer\n",
        "#     Flatten(),\n",
        "#     # First fully connected layer\n",
        "#     Dense(units=4096, activation='relu'),\n",
        "#     Dropout(0.5),\n",
        "#     # Second fully connected layer\n",
        "#     Dense(units=4096, activation='relu'),\n",
        "#     Dropout(0.5),\n",
        "#     # Output layer\n",
        "#     Dense(units=10, activation='softmax')\n",
        "# ])\n",
        "\n",
        "# # Compile the model\n",
        "# model.compile(optimizer='adam', loss='categorical_crossentropy', metrics=['accuracy'])\n",
        "\n",
        "# # Load the MNIST dataset\n",
        "# mnist = tf.keras.datasets.mnist\n",
        "# (x_train, y_train), (x_test, y_test) = mnist.load_data()\n",
        "\n",
        "# # Preprocess the data\n",
        "# x_train = x_train.reshape(x_train.shape[0], 28, 28, 1).astype('float32') / 255\n",
        "# x_test = x_test.reshape(x_test.shape[0], 28, 28, 1).astype('float32') / 255\n",
        "# y_train = tf.keras.utils.to_categorical(y_train, 10)\n",
        "# y_test = tf.keras.utils.to_categorical(y_test, 10)\n",
        "\n",
        "# print(x_train.shape)\n",
        "\n",
        "# # Train the model\n",
        "# model.fit(x_train, y_train, epochs=10, batch_size=128, validation_data=(x_test, y_test))\n"
      ],
      "metadata": {
        "id": "MKy2miYN7dBz"
      },
      "execution_count": 11,
      "outputs": []
    },
    {
      "cell_type": "markdown",
      "source": [
        "# Model Building"
      ],
      "metadata": {
        "id": "ftzDB7vfpt8p"
      }
    },
    {
      "cell_type": "code",
      "source": [
        "from keras import models"
      ],
      "metadata": {
        "id": "R6Kdq57Hxmog"
      },
      "execution_count": 12,
      "outputs": []
    },
    {
      "cell_type": "code",
      "source": [
        "# model.add(Conv2D(filters=96, kernel_size=(11,11), strides=(4,4), activation='relu', input_shape=(227,227,3)))\n",
        "# model.add(MaxPooling2D(pool_size=(3,3), strides=(2,2)))\n",
        "# model.add(Conv2D(filters=256, kernel_size=(5,5), strides=(1,1), activation='relu', padding=\"same\"))\n",
        "# model.add(MaxPooling2D(pool_size=(3,3), strides=(2,2)))\n",
        "# model.add(Conv2D(filters=384, kernel_size=(3,3), strides=(1,1), activation='relu', padding=\"same\"))\n",
        "# model.add(Conv2D(filters=384, kernel_size=(3,3), strides=(1,1), activation='relu', padding=\"same\"))\n",
        "# model.add(Conv2D(filters=256, kernel_size=(3,3), strides=(1,1), activation='relu', padding=\"same\"))\n",
        "# model.add(MaxPooling2D(pool_size=(3,3), strides=(2,2)))"
      ],
      "metadata": {
        "id": "q4ofQJov2X07"
      },
      "execution_count": 13,
      "outputs": []
    },
    {
      "cell_type": "code",
      "source": [
        "def getModel():\n",
        "    model = models.Sequential([\n",
        "        Conv2D(filters=96, kernel_size=(11,11), strides=(1,1), activation='relu', input_shape=(28,28,1)),\n",
        "        MaxPooling2D(pool_size=(3,3), strides=(2,2)),\n",
        "        BatchNormalization(),\n",
        "        # Second convolutional layer\n",
        "        Conv2D(filters=256, kernel_size=(5,5), strides=(1,1), activation='relu', padding=\"same\"),\n",
        "        MaxPooling2D(pool_size=(3,3), strides=(2,2)),\n",
        "        BatchNormalization(),\n",
        "        # Third convolutional layer\n",
        "        Conv2D(filters=384, kernel_size=(3,3), strides=(1,1), activation='relu', padding=\"same\"),\n",
        "        # Fourth convolutional layer\n",
        "        Conv2D(filters=384, kernel_size=(3,3), strides=(1,1), activation='relu', padding=\"same\"),\n",
        "        BatchNormalization(),\n",
        "        # Fifth convolutional layer\n",
        "        Conv2D(filters=256, kernel_size=(3,3), strides=(1,1), activation='relu', padding=\"same\"),\n",
        "        MaxPooling2D(pool_size=(3,3), strides=(2,2)),\n",
        "        BatchNormalization(),\n",
        "        # Flatten the output of the fifth convolutional layer\n",
        "        Flatten(),\n",
        "        # First fully connected layer\n",
        "        Dense(units=4096, activation='relu'),\n",
        "        Dropout(0.5),\n",
        "        # Second fully connected layer\n",
        "        Dense(units=4096, activation='relu'),\n",
        "        Dropout(0.5),\n",
        "        # Output layer\n",
        "        Dense(units=10, activation='softmax')\n",
        "    ])\n",
        "\n",
        "    return model"
      ],
      "metadata": {
        "execution": {
          "iopub.status.busy": "2023-03-25T06:55:17.873355Z",
          "iopub.execute_input": "2023-03-25T06:55:17.873930Z",
          "iopub.status.idle": "2023-03-25T06:55:17.891583Z",
          "shell.execute_reply.started": "2023-03-25T06:55:17.873878Z",
          "shell.execute_reply": "2023-03-25T06:55:17.890567Z"
        },
        "trusted": true,
        "id": "Xa52YjXinlHW"
      },
      "execution_count": 14,
      "outputs": []
    },
    {
      "cell_type": "code",
      "source": [
        "model_1 = getModel()\n",
        "\n",
        "model_1.summary()"
      ],
      "metadata": {
        "execution": {
          "iopub.status.busy": "2023-03-25T06:54:44.382293Z",
          "iopub.execute_input": "2023-03-25T06:54:44.382716Z",
          "iopub.status.idle": "2023-03-25T06:54:44.493834Z",
          "shell.execute_reply.started": "2023-03-25T06:54:44.382680Z",
          "shell.execute_reply": "2023-03-25T06:54:44.492185Z"
        },
        "trusted": true,
        "colab": {
          "base_uri": "https://localhost:8080/"
        },
        "id": "GjNYRPacnlHX",
        "outputId": "5911dd8e-0cc1-4fd6-880b-57fc014137e7"
      },
      "execution_count": 15,
      "outputs": [
        {
          "output_type": "stream",
          "name": "stdout",
          "text": [
            "Model: \"sequential\"\n",
            "_________________________________________________________________\n",
            " Layer (type)                Output Shape              Param #   \n",
            "=================================================================\n",
            " conv2d (Conv2D)             (None, 18, 18, 96)        11712     \n",
            "                                                                 \n",
            " max_pooling2d (MaxPooling2D  (None, 8, 8, 96)         0         \n",
            " )                                                               \n",
            "                                                                 \n",
            " batch_normalization (BatchN  (None, 8, 8, 96)         384       \n",
            " ormalization)                                                   \n",
            "                                                                 \n",
            " conv2d_1 (Conv2D)           (None, 8, 8, 256)         614656    \n",
            "                                                                 \n",
            " max_pooling2d_1 (MaxPooling  (None, 3, 3, 256)        0         \n",
            " 2D)                                                             \n",
            "                                                                 \n",
            " batch_normalization_1 (Batc  (None, 3, 3, 256)        1024      \n",
            " hNormalization)                                                 \n",
            "                                                                 \n",
            " conv2d_2 (Conv2D)           (None, 3, 3, 384)         885120    \n",
            "                                                                 \n",
            " conv2d_3 (Conv2D)           (None, 3, 3, 384)         1327488   \n",
            "                                                                 \n",
            " batch_normalization_2 (Batc  (None, 3, 3, 384)        1536      \n",
            " hNormalization)                                                 \n",
            "                                                                 \n",
            " conv2d_4 (Conv2D)           (None, 3, 3, 256)         884992    \n",
            "                                                                 \n",
            " max_pooling2d_2 (MaxPooling  (None, 1, 1, 256)        0         \n",
            " 2D)                                                             \n",
            "                                                                 \n",
            " batch_normalization_3 (Batc  (None, 1, 1, 256)        1024      \n",
            " hNormalization)                                                 \n",
            "                                                                 \n",
            " flatten (Flatten)           (None, 256)               0         \n",
            "                                                                 \n",
            " dense (Dense)               (None, 4096)              1052672   \n",
            "                                                                 \n",
            " dropout (Dropout)           (None, 4096)              0         \n",
            "                                                                 \n",
            " dense_1 (Dense)             (None, 4096)              16781312  \n",
            "                                                                 \n",
            " dropout_1 (Dropout)         (None, 4096)              0         \n",
            "                                                                 \n",
            " dense_2 (Dense)             (None, 10)                40970     \n",
            "                                                                 \n",
            "=================================================================\n",
            "Total params: 21,602,890\n",
            "Trainable params: 21,600,906\n",
            "Non-trainable params: 1,984\n",
            "_________________________________________________________________\n"
          ]
        }
      ]
    },
    {
      "cell_type": "code",
      "source": [
        "from tensorflow.keras.callbacks import EarlyStopping"
      ],
      "metadata": {
        "id": "a02r4D96ASy1"
      },
      "execution_count": 16,
      "outputs": []
    },
    {
      "cell_type": "code",
      "source": [
        "\n",
        "cb = EarlyStopping(monitor='val_loss', min_delta=0.02, patience=3, restore_best_weights=True)\n",
        "\n",
        "model_history = []\n",
        "\n",
        "model_1.compile(\n",
        "    optimizer=tf.keras.optimizers.Adam(learning_rate=1e-4),\n",
        "    loss='sparse_categorical_crossentropy', \n",
        "    metrics=['accuracy']\n",
        ")\n",
        "h_1 = model_1.fit(x=x_train_norm, y=y_train,  epochs=25, batch_size=128, validation_split=0.3)\n",
        "\n",
        "model_history.append(h_1)"
      ],
      "metadata": {
        "execution": {
          "iopub.status.busy": "2023-03-25T06:47:46.479749Z",
          "iopub.status.idle": "2023-03-25T06:47:46.480296Z",
          "shell.execute_reply.started": "2023-03-25T06:47:46.480066Z",
          "shell.execute_reply": "2023-03-25T06:47:46.480094Z"
        },
        "trusted": true,
        "colab": {
          "base_uri": "https://localhost:8080/"
        },
        "id": "diQtoT7WnlHY",
        "outputId": "5cf0a88c-9c2b-4046-f4c2-9b4c408757c6"
      },
      "execution_count": 17,
      "outputs": [
        {
          "output_type": "stream",
          "name": "stdout",
          "text": [
            "Epoch 1/25\n",
            "329/329 [==============================] - 22s 26ms/step - loss: 0.1978 - accuracy: 0.9397 - val_loss: 1.8670 - val_accuracy: 0.2918\n",
            "Epoch 2/25\n",
            "329/329 [==============================] - 8s 23ms/step - loss: 0.0478 - accuracy: 0.9851 - val_loss: 0.0744 - val_accuracy: 0.9783\n",
            "Epoch 3/25\n",
            "329/329 [==============================] - 8s 24ms/step - loss: 0.0306 - accuracy: 0.9900 - val_loss: 0.0680 - val_accuracy: 0.9828\n",
            "Epoch 4/25\n",
            "329/329 [==============================] - 8s 24ms/step - loss: 0.0253 - accuracy: 0.9919 - val_loss: 0.0625 - val_accuracy: 0.9839\n",
            "Epoch 5/25\n",
            "329/329 [==============================] - 8s 24ms/step - loss: 0.0218 - accuracy: 0.9927 - val_loss: 0.0667 - val_accuracy: 0.9847\n",
            "Epoch 6/25\n",
            "329/329 [==============================] - 8s 23ms/step - loss: 0.0180 - accuracy: 0.9943 - val_loss: 0.0686 - val_accuracy: 0.9844\n",
            "Epoch 7/25\n",
            "329/329 [==============================] - 8s 23ms/step - loss: 0.0155 - accuracy: 0.9949 - val_loss: 0.0767 - val_accuracy: 0.9836\n",
            "Epoch 8/25\n",
            "329/329 [==============================] - 8s 25ms/step - loss: 0.0164 - accuracy: 0.9952 - val_loss: 0.0902 - val_accuracy: 0.9798\n",
            "Epoch 9/25\n",
            "329/329 [==============================] - 8s 24ms/step - loss: 0.0163 - accuracy: 0.9950 - val_loss: 0.0602 - val_accuracy: 0.9858\n",
            "Epoch 10/25\n",
            "329/329 [==============================] - 8s 24ms/step - loss: 0.0121 - accuracy: 0.9961 - val_loss: 0.0830 - val_accuracy: 0.9828\n",
            "Epoch 11/25\n",
            "329/329 [==============================] - 8s 23ms/step - loss: 0.0153 - accuracy: 0.9959 - val_loss: 0.0493 - val_accuracy: 0.9881\n",
            "Epoch 12/25\n",
            "329/329 [==============================] - 8s 25ms/step - loss: 0.0080 - accuracy: 0.9976 - val_loss: 0.0569 - val_accuracy: 0.9881\n",
            "Epoch 13/25\n",
            "329/329 [==============================] - 8s 23ms/step - loss: 0.0113 - accuracy: 0.9968 - val_loss: 0.0600 - val_accuracy: 0.9873\n",
            "Epoch 14/25\n",
            "329/329 [==============================] - 8s 24ms/step - loss: 0.0106 - accuracy: 0.9972 - val_loss: 0.0769 - val_accuracy: 0.9843\n",
            "Epoch 15/25\n",
            "329/329 [==============================] - 8s 25ms/step - loss: 0.0135 - accuracy: 0.9960 - val_loss: 0.0759 - val_accuracy: 0.9845\n",
            "Epoch 16/25\n",
            "329/329 [==============================] - 8s 25ms/step - loss: 0.0116 - accuracy: 0.9966 - val_loss: 0.0647 - val_accuracy: 0.9873\n",
            "Epoch 17/25\n",
            "329/329 [==============================] - 8s 24ms/step - loss: 0.0072 - accuracy: 0.9979 - val_loss: 0.0539 - val_accuracy: 0.9893\n",
            "Epoch 18/25\n",
            "329/329 [==============================] - 8s 25ms/step - loss: 0.0075 - accuracy: 0.9979 - val_loss: 0.0537 - val_accuracy: 0.9892\n",
            "Epoch 19/25\n",
            "329/329 [==============================] - 8s 24ms/step - loss: 0.0088 - accuracy: 0.9974 - val_loss: 0.0760 - val_accuracy: 0.9874\n",
            "Epoch 20/25\n",
            "329/329 [==============================] - 8s 24ms/step - loss: 0.0100 - accuracy: 0.9970 - val_loss: 0.0774 - val_accuracy: 0.9867\n",
            "Epoch 21/25\n",
            "329/329 [==============================] - 8s 24ms/step - loss: 0.0070 - accuracy: 0.9978 - val_loss: 0.0828 - val_accuracy: 0.9858\n",
            "Epoch 22/25\n",
            "329/329 [==============================] - 8s 24ms/step - loss: 0.0073 - accuracy: 0.9977 - val_loss: 0.0688 - val_accuracy: 0.9876\n",
            "Epoch 23/25\n",
            "329/329 [==============================] - 8s 25ms/step - loss: 0.0090 - accuracy: 0.9975 - val_loss: 0.0630 - val_accuracy: 0.9871\n",
            "Epoch 24/25\n",
            "329/329 [==============================] - 8s 24ms/step - loss: 0.0058 - accuracy: 0.9983 - val_loss: 0.0619 - val_accuracy: 0.9894\n",
            "Epoch 25/25\n",
            "329/329 [==============================] - 8s 24ms/step - loss: 0.0073 - accuracy: 0.9979 - val_loss: 0.0680 - val_accuracy: 0.9882\n"
          ]
        }
      ]
    },
    {
      "cell_type": "code",
      "source": [
        "model_2=getModel()\n",
        "model_2.compile(\n",
        "    optimizer = tf.keras.optimizers.SGD(learning_rate=1e-3),\n",
        "    loss= 'sparse_categorical_crossentropy',\n",
        "    metrics = ['accuracy']\n",
        ")\n",
        "\n",
        "h_2 = model_2.fit(x=x_train_norm, y=y_train,  epochs=25, batch_size=128, validation_split=0.3)\n",
        "\n",
        "model_history.append(h_2)"
      ],
      "metadata": {
        "colab": {
          "base_uri": "https://localhost:8080/"
        },
        "id": "ptHk7RzRDdaK",
        "outputId": "1212ff82-ade2-432d-8809-288257734ca5"
      },
      "execution_count": 18,
      "outputs": [
        {
          "output_type": "stream",
          "name": "stdout",
          "text": [
            "Epoch 1/25\n",
            "329/329 [==============================] - 10s 26ms/step - loss: 1.6198 - accuracy: 0.5312 - val_loss: 2.1517 - val_accuracy: 0.2776\n",
            "Epoch 2/25\n",
            "329/329 [==============================] - 8s 24ms/step - loss: 0.7416 - accuracy: 0.8626 - val_loss: 0.5541 - val_accuracy: 0.9099\n",
            "Epoch 3/25\n",
            "329/329 [==============================] - 8s 24ms/step - loss: 0.4088 - accuracy: 0.9241 - val_loss: 0.2545 - val_accuracy: 0.9485\n",
            "Epoch 4/25\n",
            "329/329 [==============================] - 8s 24ms/step - loss: 0.2742 - accuracy: 0.9455 - val_loss: 0.1845 - val_accuracy: 0.9587\n",
            "Epoch 5/25\n",
            "329/329 [==============================] - 8s 24ms/step - loss: 0.2054 - accuracy: 0.9580 - val_loss: 0.1469 - val_accuracy: 0.9642\n",
            "Epoch 6/25\n",
            "329/329 [==============================] - 8s 23ms/step - loss: 0.1647 - accuracy: 0.9658 - val_loss: 0.1236 - val_accuracy: 0.9693\n",
            "Epoch 7/25\n",
            "329/329 [==============================] - 8s 24ms/step - loss: 0.1379 - accuracy: 0.9715 - val_loss: 0.1072 - val_accuracy: 0.9722\n",
            "Epoch 8/25\n",
            "329/329 [==============================] - 8s 25ms/step - loss: 0.1190 - accuracy: 0.9737 - val_loss: 0.0952 - val_accuracy: 0.9754\n",
            "Epoch 9/25\n",
            "329/329 [==============================] - 8s 24ms/step - loss: 0.1031 - accuracy: 0.9775 - val_loss: 0.0873 - val_accuracy: 0.9775\n",
            "Epoch 10/25\n",
            "329/329 [==============================] - 8s 26ms/step - loss: 0.0931 - accuracy: 0.9798 - val_loss: 0.0799 - val_accuracy: 0.9789\n",
            "Epoch 11/25\n",
            "329/329 [==============================] - 8s 24ms/step - loss: 0.0826 - accuracy: 0.9814 - val_loss: 0.0747 - val_accuracy: 0.9801\n",
            "Epoch 12/25\n",
            "329/329 [==============================] - 8s 24ms/step - loss: 0.0748 - accuracy: 0.9839 - val_loss: 0.0702 - val_accuracy: 0.9807\n",
            "Epoch 13/25\n",
            "329/329 [==============================] - 8s 25ms/step - loss: 0.0674 - accuracy: 0.9848 - val_loss: 0.0669 - val_accuracy: 0.9813\n",
            "Epoch 14/25\n",
            "329/329 [==============================] - 8s 24ms/step - loss: 0.0624 - accuracy: 0.9857 - val_loss: 0.0635 - val_accuracy: 0.9816\n",
            "Epoch 15/25\n",
            "329/329 [==============================] - 8s 25ms/step - loss: 0.0578 - accuracy: 0.9879 - val_loss: 0.0612 - val_accuracy: 0.9817\n",
            "Epoch 16/25\n",
            "329/329 [==============================] - 8s 25ms/step - loss: 0.0527 - accuracy: 0.9885 - val_loss: 0.0590 - val_accuracy: 0.9825\n",
            "Epoch 17/25\n",
            "329/329 [==============================] - 8s 24ms/step - loss: 0.0487 - accuracy: 0.9894 - val_loss: 0.0569 - val_accuracy: 0.9828\n",
            "Epoch 18/25\n",
            "329/329 [==============================] - 8s 24ms/step - loss: 0.0459 - accuracy: 0.9901 - val_loss: 0.0555 - val_accuracy: 0.9835\n",
            "Epoch 19/25\n",
            "329/329 [==============================] - 8s 25ms/step - loss: 0.0422 - accuracy: 0.9912 - val_loss: 0.0537 - val_accuracy: 0.9840\n",
            "Epoch 20/25\n",
            "329/329 [==============================] - 8s 25ms/step - loss: 0.0391 - accuracy: 0.9917 - val_loss: 0.0525 - val_accuracy: 0.9846\n",
            "Epoch 21/25\n",
            "329/329 [==============================] - 8s 24ms/step - loss: 0.0367 - accuracy: 0.9930 - val_loss: 0.0513 - val_accuracy: 0.9847\n",
            "Epoch 22/25\n",
            "329/329 [==============================] - 8s 24ms/step - loss: 0.0340 - accuracy: 0.9936 - val_loss: 0.0512 - val_accuracy: 0.9847\n",
            "Epoch 23/25\n",
            "329/329 [==============================] - 8s 24ms/step - loss: 0.0319 - accuracy: 0.9940 - val_loss: 0.0492 - val_accuracy: 0.9856\n",
            "Epoch 24/25\n",
            "329/329 [==============================] - 8s 24ms/step - loss: 0.0295 - accuracy: 0.9945 - val_loss: 0.0487 - val_accuracy: 0.9854\n",
            "Epoch 25/25\n",
            "329/329 [==============================] - 8s 24ms/step - loss: 0.0279 - accuracy: 0.9951 - val_loss: 0.0476 - val_accuracy: 0.9857\n"
          ]
        }
      ]
    },
    {
      "cell_type": "code",
      "source": [
        "model_3=getModel()\n",
        "model_3.compile(\n",
        "    optimizer = tf.keras.optimizers.RMSprop(learning_rate=1e-3),\n",
        "    loss= 'sparse_categorical_crossentropy',\n",
        "    metrics = ['accuracy']\n",
        ")\n",
        "\n",
        "h_3 = model_3.fit(x=x_train_norm, y=y_train,  epochs=25, batch_size=128, validation_split=0.3)\n",
        "model_history.append(h_3)"
      ],
      "metadata": {
        "colab": {
          "base_uri": "https://localhost:8080/"
        },
        "id": "JCP4iCmcDgb-",
        "outputId": "53b912f5-21d6-469b-9403-edf5431dc4d7"
      },
      "execution_count": 19,
      "outputs": [
        {
          "output_type": "stream",
          "name": "stdout",
          "text": [
            "Epoch 1/25\n",
            "329/329 [==============================] - 12s 25ms/step - loss: 0.3890 - accuracy: 0.9082 - val_loss: 0.5242 - val_accuracy: 0.8495\n",
            "Epoch 2/25\n",
            "329/329 [==============================] - 8s 25ms/step - loss: 0.0829 - accuracy: 0.9781 - val_loss: 0.3097 - val_accuracy: 0.9270\n",
            "Epoch 3/25\n",
            "329/329 [==============================] - 8s 24ms/step - loss: 0.0605 - accuracy: 0.9851 - val_loss: 0.1632 - val_accuracy: 0.9661\n",
            "Epoch 4/25\n",
            "329/329 [==============================] - 8s 25ms/step - loss: 0.0491 - accuracy: 0.9881 - val_loss: 0.0613 - val_accuracy: 0.9863\n",
            "Epoch 5/25\n",
            "329/329 [==============================] - 8s 25ms/step - loss: 0.0376 - accuracy: 0.9906 - val_loss: 0.0848 - val_accuracy: 0.9852\n",
            "Epoch 6/25\n",
            "329/329 [==============================] - 8s 24ms/step - loss: 0.0329 - accuracy: 0.9918 - val_loss: 0.1398 - val_accuracy: 0.9724\n",
            "Epoch 7/25\n",
            "329/329 [==============================] - 8s 25ms/step - loss: 0.0288 - accuracy: 0.9934 - val_loss: 0.0618 - val_accuracy: 0.9896\n",
            "Epoch 8/25\n",
            "329/329 [==============================] - 8s 24ms/step - loss: 0.0229 - accuracy: 0.9941 - val_loss: 0.1191 - val_accuracy: 0.9812\n",
            "Epoch 9/25\n",
            "329/329 [==============================] - 8s 24ms/step - loss: 0.0196 - accuracy: 0.9952 - val_loss: 0.0786 - val_accuracy: 0.9870\n",
            "Epoch 10/25\n",
            "329/329 [==============================] - 8s 24ms/step - loss: 0.0185 - accuracy: 0.9953 - val_loss: 0.0634 - val_accuracy: 0.9903\n",
            "Epoch 11/25\n",
            "329/329 [==============================] - 8s 24ms/step - loss: 0.0168 - accuracy: 0.9959 - val_loss: 0.0601 - val_accuracy: 0.9904\n",
            "Epoch 12/25\n",
            "329/329 [==============================] - 8s 23ms/step - loss: 0.0166 - accuracy: 0.9963 - val_loss: 0.0606 - val_accuracy: 0.9888\n",
            "Epoch 13/25\n",
            "329/329 [==============================] - 8s 24ms/step - loss: 0.0132 - accuracy: 0.9968 - val_loss: 0.1031 - val_accuracy: 0.9846\n",
            "Epoch 14/25\n",
            "329/329 [==============================] - 8s 24ms/step - loss: 0.0138 - accuracy: 0.9970 - val_loss: 0.1320 - val_accuracy: 0.9807\n",
            "Epoch 15/25\n",
            "329/329 [==============================] - 8s 23ms/step - loss: 0.0148 - accuracy: 0.9971 - val_loss: 0.0735 - val_accuracy: 0.9891\n",
            "Epoch 16/25\n",
            "329/329 [==============================] - 8s 24ms/step - loss: 0.0131 - accuracy: 0.9967 - val_loss: 0.0752 - val_accuracy: 0.9901\n",
            "Epoch 17/25\n",
            "329/329 [==============================] - 8s 23ms/step - loss: 0.0112 - accuracy: 0.9975 - val_loss: 0.0726 - val_accuracy: 0.9906\n",
            "Epoch 18/25\n",
            "329/329 [==============================] - 8s 24ms/step - loss: 0.0092 - accuracy: 0.9977 - val_loss: 0.0664 - val_accuracy: 0.9910\n",
            "Epoch 19/25\n",
            "329/329 [==============================] - 8s 24ms/step - loss: 0.0088 - accuracy: 0.9981 - val_loss: 0.0794 - val_accuracy: 0.9902\n",
            "Epoch 20/25\n",
            "329/329 [==============================] - 8s 23ms/step - loss: 0.0076 - accuracy: 0.9982 - val_loss: 0.0823 - val_accuracy: 0.9892\n",
            "Epoch 21/25\n",
            "329/329 [==============================] - 8s 24ms/step - loss: 0.0067 - accuracy: 0.9985 - val_loss: 0.1187 - val_accuracy: 0.9851\n",
            "Epoch 22/25\n",
            "329/329 [==============================] - 8s 24ms/step - loss: 0.0114 - accuracy: 0.9977 - val_loss: 0.0695 - val_accuracy: 0.9904\n",
            "Epoch 23/25\n",
            "329/329 [==============================] - 8s 23ms/step - loss: 0.0093 - accuracy: 0.9982 - val_loss: 0.1909 - val_accuracy: 0.9815\n",
            "Epoch 24/25\n",
            "329/329 [==============================] - 8s 25ms/step - loss: 0.0069 - accuracy: 0.9987 - val_loss: 0.1565 - val_accuracy: 0.9844\n",
            "Epoch 25/25\n",
            "329/329 [==============================] - 8s 24ms/step - loss: 0.0096 - accuracy: 0.9982 - val_loss: 0.0751 - val_accuracy: 0.9915\n"
          ]
        }
      ]
    },
    {
      "cell_type": "code",
      "source": [
        "#  1) SGD, 2) ADAM, & 3) RMSProp"
      ],
      "metadata": {
        "id": "FOh7r8ci_95g"
      },
      "execution_count": 20,
      "outputs": []
    },
    {
      "cell_type": "code",
      "source": [
        "def plot_graph(h):\n",
        "    plt.figure(figsize=(15,5))\n",
        "    plt.subplot(1,2,1)\n",
        "    plt.plot(h.history['accuracy'], '--', label='train accuracy')\n",
        "    plt.plot(h.history['val_accuracy'], '--', label = 'validation accuracy')\n",
        "    plt.xlabel('Epoch')\n",
        "    plt.ylabel('Accuracy')\n",
        "    plt.grid(True)\n",
        "    plt.legend(loc='lower right')\n",
        "\n",
        "    plt.subplot(1,2,2)\n",
        "    plt.plot(h.history['loss'], '--', label='train loss')\n",
        "    plt.plot(h.history['val_loss'], '--', label='validation loss')\n",
        "    plt.xlabel('Epoch')\n",
        "    plt.ylabel('Loss')\n",
        "    plt.grid(True)\n",
        "    plt.legend(loc='upper right')\n",
        "\n",
        "    plt.show()"
      ],
      "metadata": {
        "id": "Sfc_QYm0B-D2"
      },
      "execution_count": 21,
      "outputs": []
    },
    {
      "cell_type": "code",
      "source": [
        "for h in model_history:\n",
        "    plot_graph(h)\n"
      ],
      "metadata": {
        "execution": {
          "iopub.status.busy": "2023-03-25T06:55:32.185223Z",
          "iopub.execute_input": "2023-03-25T06:55:32.185641Z",
          "iopub.status.idle": "2023-03-25T06:55:32.293539Z",
          "shell.execute_reply.started": "2023-03-25T06:55:32.185604Z",
          "shell.execute_reply": "2023-03-25T06:55:32.291071Z"
        },
        "trusted": true,
        "colab": {
          "base_uri": "https://localhost:8080/",
          "height": 968
        },
        "id": "L9nv-Z2BnlHZ",
        "outputId": "0084ab1b-87ef-4fc7-c9bb-504257809ce8"
      },
      "execution_count": 22,
      "outputs": [
        {
          "output_type": "display_data",
          "data": {
            "text/plain": [
              "<Figure size 1080x360 with 2 Axes>"
            ],
            "image/png": "[encoded data removed]"
          },
          "metadata": {
            "needs_background": "light"
          }
        },
        {
          "output_type": "display_data",
          "data": {
            "text/plain": [
              "<Figure size 1080x360 with 2 Axes>"
            ],
            "image/png": "[encoded data removed]"
          },
          "metadata": {
            "needs_background": "light"
          }
        },
        {
          "output_type": "display_data",
          "data": {
            "text/plain": [
              "<Figure size 1080x360 with 2 Axes>"
            ],
            "image/png": "[encoded data removed]"
          },
          "metadata": {
            "needs_background": "light"
          }
        }
      ]
    },
    {
      "cell_type": "code",
      "source": [
        "test_loss, test_acc = model_1.evaluate(x_test_norm, y_test)\n",
        "print('\\nTest Accuracy:', test_acc*100)\n",
        "print('\\nTest Loss:', test_loss)"
      ],
      "metadata": {
        "colab": {
          "base_uri": "https://localhost:8080/"
        },
        "id": "8tNEsmvlnlHZ",
        "outputId": "e590bcfa-9a5f-4fff-99f8-a999325e6554"
      },
      "execution_count": 23,
      "outputs": [
        {
          "output_type": "stream",
          "name": "stdout",
          "text": [
            "313/313 [==============================] - 2s 5ms/step - loss: 0.0694 - accuracy: 0.9879\n",
            "\n",
            "Test Accuracy: 98.79000186920166\n",
            "\n",
            "Test Loss: 0.06936822086572647\n"
          ]
        }
      ]
    },
    {
      "cell_type": "code",
      "source": [
        "test_loss, test_acc = model_2.evaluate(x_test_norm, y_test)\n",
        "print('\\nTest Accuracy:', test_acc*100)\n",
        "print('\\nTest Loss:', test_loss)"
      ],
      "metadata": {
        "colab": {
          "base_uri": "https://localhost:8080/"
        },
        "id": "aRH_M7zinlHa",
        "outputId": "f2801207-395b-4581-de31-000e0e868ba0"
      },
      "execution_count": 24,
      "outputs": [
        {
          "output_type": "stream",
          "name": "stdout",
          "text": [
            "313/313 [==============================] - 1s 5ms/step - loss: 0.0426 - accuracy: 0.9870\n",
            "\n",
            "Test Accuracy: 98.69999885559082\n",
            "\n",
            "Test Loss: 0.042565979063510895\n"
          ]
        }
      ]
    },
    {
      "cell_type": "code",
      "source": [
        "test_loss, test_acc = model_3.evaluate(x_test_norm, y_test)\n",
        "print('\\nTest Accuracy:', test_acc*100)\n",
        "print('\\nTest Loss:', test_loss)"
      ],
      "metadata": {
        "colab": {
          "base_uri": "https://localhost:8080/"
        },
        "id": "FikU1hTGnlHa",
        "outputId": "2529927e-a610-4c79-c90d-28722ceda87b"
      },
      "execution_count": 25,
      "outputs": [
        {
          "output_type": "stream",
          "name": "stdout",
          "text": [
            "313/313 [==============================] - 2s 5ms/step - loss: 0.0583 - accuracy: 0.9931\n",
            "\n",
            "Test Accuracy: 99.30999875068665\n",
            "\n",
            "Test Loss: 0.058274950832128525\n"
          ]
        }
      ]
    },
    {
      "cell_type": "code",
      "source": [],
      "metadata": {
        "id": "9usX7I1snlHa"
      },
      "execution_count": 25,
      "outputs": []
    },
    {
      "cell_type": "code",
      "source": [],
      "metadata": {
        "id": "2lhSsEH7nlHa"
      },
      "execution_count": 25,
      "outputs": []
    },
    {
      "cell_type": "code",
      "source": [],
      "metadata": {
        "id": "NWvg7AUZnlHa"
      },
      "execution_count": 25,
      "outputs": []
    },
    {
      "cell_type": "code",
      "source": [],
      "metadata": {
        "id": "skiQ1NJ9nlHa"
      },
      "execution_count": 25,
      "outputs": []
    },
    {
      "cell_type": "code",
      "source": [],
      "metadata": {
        "id": "HmN5YwiqnlHa"
      },
      "execution_count": 25,
      "outputs": []
    },
    {
      "cell_type": "code",
      "source": [],
      "metadata": {
        "id": "40mCazbpnlHa"
      },
      "execution_count": 25,
      "outputs": []
    },
    {
      "cell_type": "code",
      "source": [],
      "metadata": {
        "id": "3O8VELOpnlHa"
      },
      "execution_count": 25,
      "outputs": []
    }
  ]
}