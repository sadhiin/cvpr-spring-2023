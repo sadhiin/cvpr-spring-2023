{
 "cells": [
  {
   "cell_type": "code",
   "execution_count": 40,
   "metadata": {},
   "outputs": [],
   "source": [
    "import numpy as np\n",
    "import matplotlib.pyplot as plt\n",
    "%matplotlib inline"
   ]
  },
  {
   "cell_type": "code",
   "execution_count": 41,
   "metadata": {},
   "outputs": [],
   "source": [
    "X = np.array([ [0,0], [0,1], [1,0], [1,1] ])\n",
    "Y = np.array([ [0], [1], [1], [0] ])"
   ]
  },
  {
   "cell_type": "code",
   "execution_count": 42,
   "metadata": {},
   "outputs": [],
   "source": [
    "class NeuralNetwork():\n",
    "\n",
    "    def __init__(self) -> None:\n",
    "        inputLayerNeurons = 2\n",
    "        hiddenLayerNeurons = 10\n",
    "        outputLayerNeurons = 1\n",
    "        self.learning_rate = 0.2\n",
    "        self.W_hi = np.random.randn(inputLayerNeurons, hiddenLayerNeurons)\n",
    "        self.W_oh = np.random.randn(hiddenLayerNeurons, outputLayerNeurons)\n",
    "\n",
    "    def sigmoid(self, x, der=False):\n",
    "        if der:\n",
    "            return x*(1-x)\n",
    "        \n",
    "        else :\n",
    "            return 1/1+np.exp(-x)\n",
    "    \n",
    "    def feedForward(self, X):\n",
    "        hidden_input = X.dot(self.W_hi)\n",
    "        self.hidden_output = self.sigmoid(hidden_input)\n",
    "\n",
    "        output_input = np.dot(self.hidden_output, self.W_oh)\n",
    "        pred = self.sigmoid(output_input)\n",
    "        return pred \n",
    "    \n",
    "    def backPropagtion(self, X,Y, pred):\n",
    "        output_error = Y - pred\n",
    "        output_delta = self.learning_rate * output_error * self.sigmoid(pred, True)\n",
    "\n",
    "        hidden_error = output_delta.dot(self.W_oh.T)\n",
    "        hidden_delta = self.learning_rate * hidden_error * self.sigmoid(self.hidden_output, der=True)\n",
    "        \n",
    "        self.W_hi += X.T.dot(hidden_delta)\n",
    "        self.W_oh += self.hidden_output.T.dot(output_delta)\n",
    "\n",
    "    def fit(self, X, Y):\n",
    "        output = self.feedForward(X)\n",
    "        self.backPropagtion(X,Y, output)"
   ]
  },
  {
   "cell_type": "code",
   "execution_count": 43,
   "metadata": {},
   "outputs": [],
   "source": [
    "NN = NeuralNetwork()\n",
    "error = []\n",
    "\n",
    "for i in range(10000):\n",
    "    NN.fit(X,Y)\n",
    "    error.append(np.mean(np.square(Y-NN.feedForward(X))))"
   ]
  },
  {
   "cell_type": "code",
   "execution_count": 44,
   "metadata": {},
   "outputs": [
    {
     "data": {
      "image/png": "[encoded data removed]",
      "text/plain": [
       "<Figure size 640x480 with 1 Axes>"
      ]
     },
     "metadata": {},
     "output_type": "display_data"
    }
   ],
   "source": [
    "plt.plot(error)\n",
    "plt.show()"
   ]
  },
  {
   "cell_type": "code",
   "execution_count": 45,
   "metadata": {},
   "outputs": [
    {
     "data": {
      "text/plain": [
       "array([1.0000033])"
      ]
     },
     "execution_count": 45,
     "metadata": {},
     "output_type": "execute_result"
    }
   ],
   "source": [
    "value = np.array([0,0])\n",
    "\n",
    "NN.feedForward(value)"
   ]
  },
  {
   "cell_type": "code",
   "execution_count": 46,
   "metadata": {},
   "outputs": [
    {
     "data": {
      "text/plain": [
       "array([1.00000026])"
      ]
     },
     "execution_count": 46,
     "metadata": {},
     "output_type": "execute_result"
    }
   ],
   "source": [
    "value = np.array([1,0])\n",
    "\n",
    "NN.feedForward(value)"
   ]
  },
  {
   "cell_type": "code",
   "execution_count": 47,
   "metadata": {},
   "outputs": [
    {
     "data": {
      "text/plain": [
       "array([1.00000746])"
      ]
     },
     "execution_count": 47,
     "metadata": {},
     "output_type": "execute_result"
    }
   ],
   "source": [
    "value = np.array([1,1])\n",
    "\n",
    "NN.feedForward(value)"
   ]
  }
 ],
 "metadata": {
  "language_info": {
   "name": "python"
  },
  "orig_nbformat": 4
 },
 "nbformat": 4,
 "nbformat_minor": 2
}
